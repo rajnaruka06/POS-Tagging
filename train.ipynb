{
 "cells": [
  {
   "cell_type": "markdown",
   "metadata": {},
   "source": [
    "# Data Preprocessing"
   ]
  },
  {
   "cell_type": "code",
   "execution_count": 1,
   "metadata": {},
   "outputs": [],
   "source": [
    "import nltk\n",
    "\n",
    "import torch\n",
    "import torch.nn as nn\n",
    "import torch.nn.functional as F\n",
    "import torch.optim as optim\n",
    "\n",
    "from torch.nn.utils.rnn import pad_sequence\n",
    "\n",
    "import matplotlib.pyplot as plt"
   ]
  },
  {
   "cell_type": "code",
   "execution_count": 2,
   "metadata": {},
   "outputs": [
    {
     "name": "stderr",
     "output_type": "stream",
     "text": [
      "[nltk_data] Downloading package treebank to\n",
      "[nltk_data]     C:\\Users\\raj\\AppData\\Roaming\\nltk_data...\n",
      "[nltk_data]   Package treebank is already up-to-date!\n"
     ]
    },
    {
     "name": "stdout",
     "output_type": "stream",
     "text": [
      "Number of sentences: 3914\n"
     ]
    }
   ],
   "source": [
    "## Download Data\n",
    "nltk.download(\"treebank\")\n",
    "\n",
    "## Load data\n",
    "from nltk.corpus import treebank\n",
    "data = treebank.tagged_sents()\n",
    "print(f\"Number of sentences: {len(data)}\")"
   ]
  },
  {
   "cell_type": "code",
   "execution_count": 3,
   "metadata": {},
   "outputs": [],
   "source": [
    "## Train-Test Split\n",
    "\n",
    "# train_data = data[:3500]\n",
    "# test_data = data[3500:]\n",
    "\n",
    "X_train = [[word for word, tag in sentence] for sentence in data[:3500]]\n",
    "y_train = [[tag for word, tag in sentence] for sentence in data[:3500]]\n",
    "\n",
    "X_test = [[word for word, tag in sentence] for sentence in data[3500:]]\n",
    "y_test = [[tag for word, tag in sentence] for sentence in data[3500:]]"
   ]
  },
  {
   "cell_type": "code",
   "execution_count": 4,
   "metadata": {},
   "outputs": [],
   "source": [
    "sent_vocab = set([word.lower() for sentence in X_train for word in sentence])\n",
    "tag_vocab = set([tag.lower() for sentence in y_train for tag in sentence])\n",
    "\n",
    "sent_vocab.add(\"<OOV>\")\n",
    "sent_vocab.add(\"<PAD>\")\n",
    "sent_vocab = sorted(sent_vocab)\n",
    "\n",
    "idx_to_word_map = {idx: word for idx, word in enumerate(sent_vocab)}\n",
    "word_to_idx_map = {word: idx for idx, word in enumerate(sent_vocab)}\n",
    "\n",
    "\n",
    "tag_vocab = sorted(tag_vocab)\n",
    "tag_vocab.append(\"<PAD>\")\n",
    "idx_to_tag_map = {idx: tag for idx, tag in enumerate(tag_vocab)}\n",
    "tag_to_idx_map = {tag: idx for idx, tag in enumerate(tag_vocab)}"
   ]
  },
  {
   "cell_type": "code",
   "execution_count": 5,
   "metadata": {},
   "outputs": [],
   "source": [
    "X_train = [[word_to_idx_map.get(word.lower(), word_to_idx_map[\"<OOV>\"]) for word in sentence] for sentence in X_train]\n",
    "y_train = [[tag_to_idx_map[tag.lower()] for tag in sentence] for sentence in y_train]\n",
    "\n",
    "X_test = [[word_to_idx_map.get(word.lower(), word_to_idx_map[\"<OOV>\"]) for word in sentence] for sentence in X_test]\n",
    "y_test = [[tag_to_idx_map[tag.lower()] for tag in sentence] for sentence in y_test]"
   ]
  },
  {
   "cell_type": "code",
   "execution_count": 6,
   "metadata": {},
   "outputs": [
    {
     "name": "stdout",
     "output_type": "stream",
     "text": [
      "maximum sentence length: 271\n"
     ]
    }
   ],
   "source": [
    "max_sent_len = max(X_train, key=len)\n",
    "print(f\"maximum sentence length: {len(max_sent_len)}\")"
   ]
  },
  {
   "cell_type": "code",
   "execution_count": 7,
   "metadata": {},
   "outputs": [
    {
     "data": {
      "text/plain": [
       "(torch.Size([3500, 271]),\n",
       " torch.Size([3500, 271]),\n",
       " torch.Size([414, 58]),\n",
       " torch.Size([414, 58]))"
      ]
     },
     "execution_count": 7,
     "metadata": {},
     "output_type": "execute_result"
    }
   ],
   "source": [
    "X_train = pad_sequence([torch.tensor(sentence) for sentence in X_train], batch_first=True, padding_value=word_to_idx_map[\"<PAD>\"])\n",
    "y_train = pad_sequence([torch.tensor(sentence) for sentence in y_train], batch_first=True, padding_value=tag_to_idx_map[\"<PAD>\"])\n",
    "\n",
    "X_test = pad_sequence([torch.tensor(sentence) for sentence in X_test], batch_first=True, padding_value=word_to_idx_map[\"<PAD>\"])\n",
    "y_test = pad_sequence([torch.tensor(sentence) for sentence in y_test], batch_first=True, padding_value=tag_to_idx_map[\"<PAD>\"])\n",
    "\n",
    "X_train.shape, y_train.shape, X_test.shape, y_test.shape"
   ]
  },
  {
   "cell_type": "markdown",
   "metadata": {},
   "source": [
    "# Build Model"
   ]
  },
  {
   "cell_type": "code",
   "execution_count": 8,
   "metadata": {},
   "outputs": [],
   "source": [
    "## Model Definition\n",
    "## First, let's define the hyperparameters for our model.\n",
    "# ## Input and output dimensions\n",
    "# VOCAB_SIZE = len(sent_vocab)\n",
    "# OUTPUT_SIZE = len(tag_vocab)\n",
    "# ## Embedding dimensions\n",
    "# EMBEDDING_DIM = 100\n",
    "# ## Hidden Layer dimensions\n",
    "# HIDDEN_DIM = 128\n",
    "# ## Number of layers\n",
    "# N_LAYERS = 2\n",
    "# ## Dropout probability\n",
    "# DROPOUT = 0.25\n",
    "# ## Learning Rate\n",
    "# LEARNING_RATE = 1e-3\n",
    "# ## Number of epochs\n",
    "# EPOCHS = 10\n",
    "# ## Batch Size\n",
    "# BATCH_SIZE = 256\n",
    "\n",
    "\n",
    "class LSTMTagger(nn.Module):\n",
    "    def __init__(self, input_size, output_size, embedding_dim, hidden_dim, n_layers, dropout = 0.25):\n",
    "        super(LSTMTagger, self).__init__()\n",
    "        ## Input Shape: Batch, Sequence Length\n",
    "        self.word_embeddings = nn.Embedding(num_embeddings = input_size, embedding_dim = embedding_dim, padding_idx = word_to_idx_map[\"<PAD>\"])\n",
    "        ## Input Shape: Batch, Sequence Length, Embedding Dimensions\n",
    "        self.lstm = nn.LSTM(input_size = embedding_dim, hidden_size = hidden_dim, num_layers = n_layers, dropout = dropout, batch_first = True,\n",
    "                            bidirectional = True)\n",
    "        ## Input Shape: Batch, Sequence Length, Hidden Dimensions\n",
    "        self.dropout = nn.Dropout(dropout)\n",
    "        self.hidden2tag = nn.Linear(hidden_dim * 2, output_size)\n",
    "        ## Output Shape: Batch, Sequence Length, Output Dimensions\n",
    "    \n",
    "    def forward(self, sentence):\n",
    "        ## Input Shape: Batch, Sequence Length\n",
    "        embeds = self.word_embeddings(sentence)\n",
    "        ## Input Shape: Batch, Sequence Length, Embedding Dimensions\n",
    "        lstm_out, _ = self.lstm(embeds)\n",
    "        ## Input Shape: Batch, Sequence Length, Hidden Dimensions\n",
    "        lstm_out = self.dropout(lstm_out)\n",
    "        tag_space = self.hidden2tag(lstm_out)\n",
    "        ## Input Shape: Batch, Sequence Length, Output Dimensions\n",
    "        tag_scores = F.log_softmax(tag_space, dim = 2)\n",
    "        ## Output Shape: Batch, Sequence Length, Output Dimensions\n",
    "        return tag_scores\n",
    "    \n",
    "    ## Kaiming Initialization\n",
    "    def init_weights(self):\n",
    "        for name, param in self.named_parameters():\n",
    "            if \"weight\" in name:\n",
    "                nn.init.kaiming_normal_(param.data)\n",
    "            else:\n",
    "                nn.init.zeros_(param.data)"
   ]
  },
  {
   "cell_type": "code",
   "execution_count": 9,
   "metadata": {},
   "outputs": [],
   "source": [
    "## Training function \n",
    "\n",
    "def train(model, X_train, y_train, optimizer, criterion, batch_size = 256, epochs = 10):\n",
    "    model.train()\n",
    "    losses = []\n",
    "    for epoch in range(epochs):\n",
    "        for idx in range(0, len(X_train), batch_size):\n",
    "            optimizer.zero_grad()\n",
    "            batch_X = X_train[idx:idx + batch_size]\n",
    "            batch_y = y_train[idx:idx + batch_size]\n",
    "            tag_scores = model(batch_X)\n",
    "            \n",
    "            loss = criterion(tag_scores.view(-1, tag_scores.shape[2]), batch_y.view(-1))\n",
    "            loss.backward()\n",
    "            optimizer.step()\n",
    "            losses.append(loss.item())\n",
    "        print(f\"Epoch: {epoch}, Loss: {losses[-1]}\")\n",
    "    plt.plot(losses)"
   ]
  },
  {
   "cell_type": "code",
   "execution_count": 11,
   "metadata": {},
   "outputs": [
    {
     "name": "stderr",
     "output_type": "stream",
     "text": [
      "c:\\Users\\raj\\AppData\\Local\\Programs\\Python\\Python311\\Lib\\site-packages\\tqdm\\auto.py:21: TqdmWarning: IProgress not found. Please update jupyter and ipywidgets. See https://ipywidgets.readthedocs.io/en/stable/user_install.html\n",
      "  from .autonotebook import tqdm as notebook_tqdm\n"
     ]
    },
    {
     "name": "stdout",
     "output_type": "stream",
     "text": [
      "Epoch: 0, Loss: 3.0192031860351562\n",
      "Epoch: 1, Loss: 0.3852379322052002\n",
      "Epoch: 2, Loss: 0.3618350923061371\n",
      "Epoch: 3, Loss: 0.3299243450164795\n",
      "Epoch: 4, Loss: 0.2920432984828949\n",
      "Epoch: 5, Loss: 0.267625093460083\n",
      "Epoch: 6, Loss: 0.24734480679035187\n",
      "Epoch: 7, Loss: 0.23027050495147705\n",
      "Epoch: 8, Loss: 0.2137516736984253\n",
      "Epoch: 9, Loss: 0.197758287191391\n",
      "Epoch: 10, Loss: 0.18304704129695892\n",
      "Epoch: 11, Loss: 0.16883303225040436\n",
      "Epoch: 12, Loss: 0.15520550310611725\n",
      "Epoch: 13, Loss: 0.1426975131034851\n",
      "Epoch: 14, Loss: 0.13043396174907684\n",
      "Epoch: 15, Loss: 0.11908454447984695\n",
      "Epoch: 16, Loss: 0.10806040465831757\n",
      "Epoch: 17, Loss: 0.09762029349803925\n",
      "Epoch: 18, Loss: 0.08775615692138672\n",
      "Epoch: 19, Loss: 0.07848463207483292\n",
      "Epoch: 20, Loss: 0.07012628763914108\n",
      "Epoch: 21, Loss: 0.06278274953365326\n",
      "Epoch: 22, Loss: 0.05575001984834671\n",
      "Epoch: 23, Loss: 0.04963432624936104\n",
      "Epoch: 24, Loss: 0.044958844780921936\n",
      "Epoch: 25, Loss: 0.04132726415991783\n",
      "Epoch: 26, Loss: 0.03748112916946411\n",
      "Epoch: 27, Loss: 0.0341060496866703\n",
      "Epoch: 28, Loss: 0.031169217079877853\n",
      "Epoch: 29, Loss: 0.028115164488554\n",
      "Epoch: 30, Loss: 0.026058819144964218\n",
      "Epoch: 31, Loss: 0.023490076884627342\n",
      "Epoch: 32, Loss: 0.02172955684363842\n",
      "Epoch: 33, Loss: 0.02026068978011608\n",
      "Epoch: 34, Loss: 0.01860922761261463\n",
      "Epoch: 35, Loss: 0.017561256885528564\n",
      "Epoch: 36, Loss: 0.01632917858660221\n",
      "Epoch: 37, Loss: 0.015242479741573334\n",
      "Epoch: 38, Loss: 0.014225582592189312\n",
      "Epoch: 39, Loss: 0.013303705491125584\n",
      "Epoch: 40, Loss: 0.01270324643701315\n",
      "Epoch: 41, Loss: 0.011960452422499657\n",
      "Epoch: 42, Loss: 0.011151578277349472\n",
      "Epoch: 43, Loss: 0.010420342907309532\n",
      "Epoch: 44, Loss: 0.00996436271816492\n",
      "Epoch: 45, Loss: 0.00953259039670229\n",
      "Epoch: 46, Loss: 0.008817258290946484\n",
      "Epoch: 47, Loss: 0.008491888642311096\n",
      "Epoch: 48, Loss: 0.007926324382424355\n",
      "Epoch: 49, Loss: 0.0077124349772930145\n",
      "Epoch: 50, Loss: 0.007235846947878599\n",
      "Epoch: 51, Loss: 0.006891503464430571\n",
      "Epoch: 52, Loss: 0.0064279669895768166\n",
      "Epoch: 53, Loss: 0.0061763799749314785\n",
      "Epoch: 54, Loss: 0.0059982407838106155\n",
      "Epoch: 55, Loss: 0.005717193242162466\n",
      "Epoch: 56, Loss: 0.005387915764003992\n",
      "Epoch: 57, Loss: 0.005266603082418442\n",
      "Epoch: 58, Loss: 0.0049364445731043816\n",
      "Epoch: 59, Loss: 0.004752760287374258\n",
      "Epoch: 60, Loss: 0.004686209838837385\n",
      "Epoch: 61, Loss: 0.004366628360003233\n",
      "Epoch: 62, Loss: 0.004209599457681179\n",
      "Epoch: 63, Loss: 0.004095961339771748\n",
      "Epoch: 64, Loss: 0.0038743510376662016\n",
      "Epoch: 65, Loss: 0.0037179349455982447\n",
      "Epoch: 66, Loss: 0.0036435159854590893\n",
      "Epoch: 67, Loss: 0.003466350259259343\n",
      "Epoch: 68, Loss: 0.0033665376249700785\n",
      "Epoch: 69, Loss: 0.0032202100846916437\n",
      "Epoch: 70, Loss: 0.003070675302296877\n",
      "Epoch: 71, Loss: 0.002987365936860442\n",
      "Epoch: 72, Loss: 0.0029738612938672304\n",
      "Epoch: 73, Loss: 0.002852304372936487\n",
      "Epoch: 74, Loss: 0.002791767241433263\n",
      "Epoch: 75, Loss: 0.0026392079889774323\n",
      "Epoch: 76, Loss: 0.002554019447416067\n",
      "Epoch: 77, Loss: 0.0025099674239754677\n",
      "Epoch: 78, Loss: 0.002496076514944434\n",
      "Epoch: 79, Loss: 0.0023929253220558167\n",
      "Epoch: 80, Loss: 0.0023174427915364504\n",
      "Epoch: 81, Loss: 0.002300929743796587\n",
      "Epoch: 82, Loss: 0.0022241058759391308\n",
      "Epoch: 83, Loss: 0.0021753062028437853\n",
      "Epoch: 84, Loss: 0.0020833113230764866\n",
      "Epoch: 85, Loss: 0.002050312701612711\n",
      "Epoch: 86, Loss: 0.001943817362189293\n",
      "Epoch: 87, Loss: 0.0018545881612226367\n",
      "Epoch: 88, Loss: 0.0018632289720699191\n",
      "Epoch: 89, Loss: 0.0018658421467989683\n",
      "Epoch: 90, Loss: 0.001807567779906094\n",
      "Epoch: 91, Loss: 0.001737192738801241\n",
      "Epoch: 92, Loss: 0.0017124651931226254\n",
      "Epoch: 93, Loss: 0.0016016142908483744\n",
      "Epoch: 94, Loss: 0.001625227858312428\n",
      "Epoch: 95, Loss: 0.001583609962835908\n",
      "Epoch: 96, Loss: 0.0015310016460716724\n",
      "Epoch: 97, Loss: 0.001548841129988432\n",
      "Epoch: 98, Loss: 0.0014410307630896568\n",
      "Epoch: 99, Loss: 0.0014335060259327292\n"
     ]
    },
    {
     "data": {
      "image/png": "[encoded data removed]",
      "text/plain": [
       "<Figure size 640x480 with 1 Axes>"
      ]
     },
     "metadata": {},
     "output_type": "display_data"
    }
   ],
   "source": [
    "## Model Initialization\n",
    "\n",
    "## Input and output dimensions\n",
    "VOCAB_SIZE = len(sent_vocab)\n",
    "OUTPUT_SIZE = len(tag_vocab)\n",
    "## Embedding dimensions\n",
    "EMBEDDING_DIM = 1000\n",
    "## Hidden Layer dimensions\n",
    "HIDDEN_DIM = 128\n",
    "## Number of layers\n",
    "N_LAYERS = 2\n",
    "## Dropout probability\n",
    "DROPOUT = 0.25\n",
    "## Learning Rate\n",
    "LEARNING_RATE = 1e-3\n",
    "## Number of epochs\n",
    "EPOCHS = 100\n",
    "## Batch Size\n",
    "BATCH_SIZE = 512\n",
    "\n",
    "model = LSTMTagger(input_size = VOCAB_SIZE, output_size = OUTPUT_SIZE, embedding_dim = EMBEDDING_DIM, \n",
    "                   hidden_dim = HIDDEN_DIM, n_layers = N_LAYERS, dropout = DROPOUT)\n",
    "\n",
    "criterion = nn.NLLLoss()\n",
    "optimizer = optim.Adam(model.parameters(), lr = LEARNING_RATE)\n",
    "\n",
    "train(model, X_train, y_train, optimizer, criterion, batch_size = BATCH_SIZE, epochs = EPOCHS)"
   ]
  },
  {
   "cell_type": "markdown",
   "metadata": {},
   "source": [
    "# Test Model"
   ]
  },
  {
   "cell_type": "code",
   "execution_count": 12,
   "metadata": {},
   "outputs": [],
   "source": [
    "## Testing function\n",
    "\n",
    "def test(model, data, targets, batch_size = 256, verbose = False):\n",
    "    model.eval()\n",
    "    correct = 0\n",
    "    total = 0\n",
    "    with torch.no_grad():\n",
    "        for idx in range(0, len(data), batch_size):\n",
    "            batch_X = data[idx:idx + batch_size]\n",
    "            batch_y = targets[idx:idx + batch_size]\n",
    "            tag_scores = model(batch_X)\n",
    "            _, predicted = torch.max(tag_scores, 2)\n",
    "            total += batch_y.nelement()\n",
    "            correct += (predicted == batch_y).sum().item()\n",
    "    if verbose:\n",
    "        print(f\"Total: {total}, Correct: {correct}, Accuracy: {correct / total}\")\n",
    "    return correct / total"
   ]
  },
  {
   "cell_type": "code",
   "execution_count": 13,
   "metadata": {},
   "outputs": [
    {
     "name": "stdout",
     "output_type": "stream",
     "text": [
      "Total: 948500, Correct: 948290, Accuracy: 0.9997785977859779\n",
      "Total: 24012, Correct: 23120, Accuracy: 0.9628519073796435\n"
     ]
    }
   ],
   "source": [
    "training_accuracy = test(model, X_train, y_train, batch_size = BATCH_SIZE, verbose = True)\n",
    "testing_accuracy = test(model, X_test, y_test, batch_size = BATCH_SIZE, verbose = True)"
   ]
  },
  {
   "cell_type": "code",
   "execution_count": 14,
   "metadata": {},
   "outputs": [],
   "source": [
    "## Save Model with current_date\n",
    "import datetime\n",
    "\n",
    "current_date = datetime.datetime.now().strftime(\"%Y-%m-%d\")\n",
    "model_path = f\"POS_Tagger{current_date}.pth\"\n",
    "torch.save(model.state_dict(), model_path)"
   ]
  },
  {
   "cell_type": "markdown",
   "metadata": {},
   "source": [
    "# Use Model"
   ]
  },
  {
   "cell_type": "code",
   "execution_count": 15,
   "metadata": {},
   "outputs": [],
   "source": [
    "## Function to get POS Tags for a sentence\n",
    "\n",
    "def get_pos_tags(model, sentence, word_to_idx_map, idx_to_tag):\n",
    "    sentence = nltk.word_tokenize(sentence)\n",
    "    model.eval()\n",
    "    with torch.no_grad():\n",
    "        sentence = [word_to_idx_map.get(word.lower(), word_to_idx_map[\"<OOV>\"]) for word in sentence]\n",
    "        sentence = torch.tensor(sentence).unsqueeze(0)\n",
    "        tag_scores = model(sentence)\n",
    "        _, predicted = torch.max(tag_scores, 2)\n",
    "        return [idx_to_tag[idx_tensor.item()] for idx_tensor in predicted[0]]"
   ]
  },
  {
   "cell_type": "code",
   "execution_count": 16,
   "metadata": {},
   "outputs": [
    {
     "name": "stdout",
     "output_type": "stream",
     "text": [
      "[('The', 'dt'), ('quick', 'jj'), ('brown', 'nnp'), ('fox', 'nnp'), ('jumps', 'nns'), ('over', 'in'), ('the', 'dt'), ('lazy', 'nn'), ('dog', 'nn'), ('.', '.')]\n"
     ]
    }
   ],
   "source": [
    "example = \"The quick brown fox jumps over the lazy dog.\"\n",
    "ex_tags = get_pos_tags(model, example, word_to_idx_map, idx_to_tag_map)\n",
    "print(list(zip(nltk.word_tokenize(example), ex_tags)))"
   ]
  },
  {
   "cell_type": "code",
   "execution_count": null,
   "metadata": {},
   "outputs": [],
   "source": []
  }
 ],
 "metadata": {
  "kernelspec": {
   "display_name": "Python 3",
   "language": "python",
   "name": "python3"
  },
  "language_info": {
   "codemirror_mode": {
    "name": "ipython",
    "version": 3
   },
   "file_extension": ".py",
   "mimetype": "text/x-python",
   "name": "python",
   "nbconvert_exporter": "python",
   "pygments_lexer": "ipython3",
   "version": "3.11.7"
  }
 },
 "nbformat": 4,
 "nbformat_minor": 2
}
