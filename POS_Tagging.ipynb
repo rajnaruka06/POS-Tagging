{
 "cells": [
  {
   "cell_type": "markdown",
   "metadata": {},
   "source": [
    "# Data Preprocessing"
   ]
  },
  {
   "cell_type": "code",
   "execution_count": 1,
   "metadata": {},
   "outputs": [],
   "source": [
    "import nltk\n",
    "\n",
    "import torch\n",
    "import torch.nn as nn\n",
    "import torch.nn.functional as F\n",
    "import torch.optim as optim\n",
    "\n",
    "from torch.nn.utils.rnn import pad_sequence\n",
    "\n",
    "import matplotlib.pyplot as plt"
   ]
  },
  {
   "cell_type": "code",
   "execution_count": 2,
   "metadata": {},
   "outputs": [
    {
     "name": "stderr",
     "output_type": "stream",
     "text": [
      "[nltk_data] Downloading package treebank to\n",
      "[nltk_data]     C:\\Users\\raj\\AppData\\Roaming\\nltk_data...\n",
      "[nltk_data]   Package treebank is already up-to-date!\n"
     ]
    },
    {
     "name": "stdout",
     "output_type": "stream",
     "text": [
      "Number of sentences: 3914\n"
     ]
    }
   ],
   "source": [
    "## Download Data\n",
    "nltk.download(\"treebank\")\n",
    "\n",
    "## Load data\n",
    "from nltk.corpus import treebank\n",
    "data = treebank.tagged_sents()\n",
    "print(f\"Number of sentences: {len(data)}\")"
   ]
  },
  {
   "cell_type": "code",
   "execution_count": 3,
   "metadata": {},
   "outputs": [],
   "source": [
    "## Train-Test Split\n",
    "\n",
    "# train_data = data[:3500]\n",
    "# test_data = data[3500:]\n",
    "\n",
    "X_train = [[word for word, tag in sentence] for sentence in data[:3500]]\n",
    "y_train = [[tag for word, tag in sentence] for sentence in data[:3500]]\n",
    "\n",
    "X_test = [[word for word, tag in sentence] for sentence in data[3500:]]\n",
    "y_test = [[tag for word, tag in sentence] for sentence in data[3500:]]"
   ]
  },
  {
   "cell_type": "code",
   "execution_count": 4,
   "metadata": {},
   "outputs": [],
   "source": [
    "sent_vocab = set([word.lower() for sentence in X_train for word in sentence])\n",
    "tag_vocab = set([tag.lower() for sentence in y_train for tag in sentence])\n",
    "\n",
    "sent_vocab.add(\"<OOV>\")\n",
    "sent_vocab.add(\"<PAD>\")\n",
    "sent_vocab = sorted(sent_vocab)\n",
    "\n",
    "idx_to_word_map = {idx: word for idx, word in enumerate(sent_vocab)}\n",
    "word_to_idx_map = {word: idx for idx, word in enumerate(sent_vocab)}\n",
    "\n",
    "\n",
    "tag_vocab = sorted(tag_vocab)\n",
    "tag_vocab.append(\"<PAD>\")\n",
    "idx_to_tag_map = {idx: tag for idx, tag in enumerate(tag_vocab)}\n",
    "tag_to_idx_map = {tag: idx for idx, tag in enumerate(tag_vocab)}"
   ]
  },
  {
   "cell_type": "code",
   "execution_count": 5,
   "metadata": {},
   "outputs": [],
   "source": [
    "X_train = [[word_to_idx_map.get(word.lower(), word_to_idx_map[\"<OOV>\"]) for word in sentence] for sentence in X_train]\n",
    "y_train = [[tag_to_idx_map[tag.lower()] for tag in sentence] for sentence in y_train]\n",
    "\n",
    "X_test = [[word_to_idx_map.get(word.lower(), word_to_idx_map[\"<OOV>\"]) for word in sentence] for sentence in X_test]\n",
    "y_test = [[tag_to_idx_map[tag.lower()] for tag in sentence] for sentence in y_test]"
   ]
  },
  {
   "cell_type": "code",
   "execution_count": 6,
   "metadata": {},
   "outputs": [
    {
     "name": "stdout",
     "output_type": "stream",
     "text": [
      "maximum sentence length: 271\n"
     ]
    }
   ],
   "source": [
    "max_sent_len = max(X_train, key=len)\n",
    "print(f\"maximum sentence length: {len(max_sent_len)}\")"
   ]
  },
  {
   "cell_type": "code",
   "execution_count": 7,
   "metadata": {},
   "outputs": [
    {
     "data": {
      "text/plain": [
       "(torch.Size([3500, 271]),\n",
       " torch.Size([3500, 271]),\n",
       " torch.Size([414, 58]),\n",
       " torch.Size([414, 58]))"
      ]
     },
     "execution_count": 7,
     "metadata": {},
     "output_type": "execute_result"
    }
   ],
   "source": [
    "X_train = pad_sequence([torch.tensor(sentence) for sentence in X_train], batch_first=True, padding_value=word_to_idx_map[\"<PAD>\"])\n",
    "y_train = pad_sequence([torch.tensor(sentence) for sentence in y_train], batch_first=True, padding_value=tag_to_idx_map[\"<PAD>\"])\n",
    "\n",
    "X_test = pad_sequence([torch.tensor(sentence) for sentence in X_test], batch_first=True, padding_value=word_to_idx_map[\"<PAD>\"])\n",
    "y_test = pad_sequence([torch.tensor(sentence) for sentence in y_test], batch_first=True, padding_value=tag_to_idx_map[\"<PAD>\"])\n",
    "\n",
    "X_train.shape, y_train.shape, X_test.shape, y_test.shape"
   ]
  },
  {
   "cell_type": "markdown",
   "metadata": {},
   "source": [
    "# Build Model"
   ]
  },
  {
   "cell_type": "code",
   "execution_count": 8,
   "metadata": {},
   "outputs": [],
   "source": [
    "## Model Definition\n",
    "## First, let's define the hyperparameters for our model.\n",
    "# ## Input and output dimensions\n",
    "# VOCAB_SIZE = len(sent_vocab)\n",
    "# OUTPUT_SIZE = len(tag_vocab)\n",
    "# ## Embedding dimensions\n",
    "# EMBEDDING_DIM = 100\n",
    "# ## Hidden Layer dimensions\n",
    "# HIDDEN_DIM = 128\n",
    "# ## Number of layers\n",
    "# N_LAYERS = 2\n",
    "# ## Dropout probability\n",
    "# DROPOUT = 0.25\n",
    "# ## Learning Rate\n",
    "# LEARNING_RATE = 1e-3\n",
    "# ## Number of epochs\n",
    "# EPOCHS = 10\n",
    "# ## Batch Size\n",
    "# BATCH_SIZE = 256\n",
    "\n",
    "\n",
    "class LSTMTagger(nn.Module):\n",
    "    def __init__(self, input_size, output_size, embedding_dim, hidden_dim, n_layers, dropout = 0.25):\n",
    "        super(LSTMTagger, self).__init__()\n",
    "        ## Input Shape: Batch, Sequence Length\n",
    "        self.word_embeddings = nn.Embedding(num_embeddings = input_size, embedding_dim = embedding_dim, padding_idx = word_to_idx_map[\"<PAD>\"])\n",
    "        ## Input Shape: Batch, Sequence Length, Embedding Dimensions\n",
    "        self.lstm = nn.LSTM(input_size = embedding_dim, hidden_size = hidden_dim, num_layers = n_layers, dropout = dropout, batch_first = True,\n",
    "                            bidirectional = True)\n",
    "        ## Input Shape: Batch, Sequence Length, Hidden Dimensions\n",
    "        self.dropout = nn.Dropout(dropout)\n",
    "        self.hidden2tag = nn.Linear(hidden_dim * 2, output_size)\n",
    "        ## Output Shape: Batch, Sequence Length, Output Dimensions\n",
    "    \n",
    "    def forward(self, sentence):\n",
    "        ## Input Shape: Batch, Sequence Length\n",
    "        embeds = self.word_embeddings(sentence)\n",
    "        ## Input Shape: Batch, Sequence Length, Embedding Dimensions\n",
    "        lstm_out, _ = self.lstm(embeds)\n",
    "        ## Input Shape: Batch, Sequence Length, Hidden Dimensions\n",
    "        lstm_out = self.dropout(lstm_out)\n",
    "        tag_space = self.hidden2tag(lstm_out)\n",
    "        ## Input Shape: Batch, Sequence Length, Output Dimensions\n",
    "        tag_scores = F.log_softmax(tag_space, dim = 2)\n",
    "        ## Output Shape: Batch, Sequence Length, Output Dimensions\n",
    "        return tag_scores"
   ]
  },
  {
   "cell_type": "code",
   "execution_count": 9,
   "metadata": {},
   "outputs": [],
   "source": [
    "## Training function \n",
    "\n",
    "def train(model, X_train, y_train, optimizer, criterion, batch_size = 256, epochs = 10):\n",
    "    model.train()\n",
    "    losses = []\n",
    "    for epoch in range(epochs):\n",
    "        for idx in range(0, len(X_train), batch_size):\n",
    "            optimizer.zero_grad()\n",
    "            batch_X = X_train[idx:idx + batch_size]\n",
    "            batch_y = y_train[idx:idx + batch_size]\n",
    "            tag_scores = model(batch_X)\n",
    "            \n",
    "            loss = criterion(tag_scores.view(-1, tag_scores.shape[2]), batch_y.view(-1))\n",
    "            loss.backward()\n",
    "            optimizer.step()\n",
    "            losses.append(loss.item())\n",
    "        print(f\"Epoch: {epoch}, Loss: {losses[-1]}\")\n",
    "    plt.plot(losses)"
   ]
  },
  {
   "cell_type": "code",
   "execution_count": 11,
   "metadata": {},
   "outputs": [
    {
     "name": "stdout",
     "output_type": "stream",
     "text": [
      "Epoch: 0, Loss: 2.9665117263793945\n",
      "Epoch: 1, Loss: 0.5645630359649658\n",
      "Epoch: 2, Loss: 0.4423278272151947\n",
      "Epoch: 3, Loss: 0.37639936804771423\n",
      "Epoch: 4, Loss: 0.3739485740661621\n",
      "Epoch: 5, Loss: 0.35844898223876953\n",
      "Epoch: 6, Loss: 0.3352885842323303\n",
      "Epoch: 7, Loss: 0.311938613653183\n",
      "Epoch: 8, Loss: 0.2965640127658844\n",
      "Epoch: 9, Loss: 0.28732535243034363\n"
     ]
    },
    {
     "data": {
      "image/png": "[encoded data removed]",
      "text/plain": [
       "<Figure size 640x480 with 1 Axes>"
      ]
     },
     "metadata": {},
     "output_type": "display_data"
    }
   ],
   "source": [
    "## Model Initialization\n",
    "\n",
    "## Input and output dimensions\n",
    "VOCAB_SIZE = len(sent_vocab)\n",
    "OUTPUT_SIZE = len(tag_vocab)\n",
    "## Embedding dimensions\n",
    "EMBEDDING_DIM = 100\n",
    "## Hidden Layer dimensions\n",
    "HIDDEN_DIM = 128\n",
    "## Number of layers\n",
    "N_LAYERS = 2\n",
    "## Dropout probability\n",
    "DROPOUT = 0.25\n",
    "## Learning Rate\n",
    "LEARNING_RATE = 1e-3\n",
    "## Number of epochs\n",
    "EPOCHS = 100\n",
    "## Batch Size\n",
    "BATCH_SIZE = 512\n",
    "\n",
    "model = LSTMTagger(input_size = VOCAB_SIZE, output_size = OUTPUT_SIZE, embedding_dim = EMBEDDING_DIM, \n",
    "                   hidden_dim = HIDDEN_DIM, n_layers = N_LAYERS, dropout = DROPOUT)\n",
    "\n",
    "criterion = nn.NLLLoss()\n",
    "optimizer = optim.Adam(model.parameters(), lr = LEARNING_RATE)\n",
    "\n",
    "train(model, X_train, y_train, optimizer, criterion, batch_size = BATCH_SIZE, epochs = EPOCHS)"
   ]
  },
  {
   "cell_type": "markdown",
   "metadata": {},
   "source": [
    "# Test Model"
   ]
  },
  {
   "cell_type": "code",
   "execution_count": 14,
   "metadata": {},
   "outputs": [],
   "source": [
    "## Testing function\n",
    "\n",
    "def test(model, data, targets, batch_size = 256, verbose = False):\n",
    "    model.eval()\n",
    "    correct = 0\n",
    "    total = 0\n",
    "    with torch.no_grad():\n",
    "        for idx in range(0, len(data), batch_size):\n",
    "            batch_X = data[idx:idx + batch_size]\n",
    "            batch_y = targets[idx:idx + batch_size]\n",
    "            tag_scores = model(batch_X)\n",
    "            _, predicted = torch.max(tag_scores, 2)\n",
    "            total += batch_y.nelement()\n",
    "            correct += (predicted == batch_y).sum().item()\n",
    "    if verbose:\n",
    "        print(f\"Total: {total}, Correct: {correct}, Accuracy: {correct / total}\")\n",
    "    return correct / total"
   ]
  },
  {
   "cell_type": "code",
   "execution_count": 23,
   "metadata": {},
   "outputs": [
    {
     "name": "stdout",
     "output_type": "stream",
     "text": [
      "Total: 948500, Correct: 942655, Accuracy: 0.9938376383763837\n",
      "Total: 24012, Correct: 22534, Accuracy: 0.9384474429451941\n"
     ]
    }
   ],
   "source": [
    "training_accuracy = test(model, X_train, y_train, batch_size = BATCH_SIZE, verbose = True)\n",
    "testing_accuracy = test(model, X_test, y_test, batch_size = BATCH_SIZE, verbose = True)"
   ]
  },
  {
   "cell_type": "code",
   "execution_count": 1,
   "metadata": {},
   "outputs": [
    {
     "ename": "NameError",
     "evalue": "name 'torch' is not defined",
     "output_type": "error",
     "traceback": [
      "\u001b[1;31m---------------------------------------------------------------------------\u001b[0m",
      "\u001b[1;31mNameError\u001b[0m                                 Traceback (most recent call last)",
      "Cell \u001b[1;32mIn[1], line 6\u001b[0m\n\u001b[0;32m      4\u001b[0m current_date \u001b[38;5;241m=\u001b[39m datetime\u001b[38;5;241m.\u001b[39mdatetime\u001b[38;5;241m.\u001b[39mnow()\u001b[38;5;241m.\u001b[39mstrftime(\u001b[38;5;124m\"\u001b[39m\u001b[38;5;124m%\u001b[39m\u001b[38;5;124mY-\u001b[39m\u001b[38;5;124m%\u001b[39m\u001b[38;5;124mm-\u001b[39m\u001b[38;5;132;01m%d\u001b[39;00m\u001b[38;5;124m\"\u001b[39m)\n\u001b[0;32m      5\u001b[0m model_path \u001b[38;5;241m=\u001b[39m \u001b[38;5;124mf\u001b[39m\u001b[38;5;124m\"\u001b[39m\u001b[38;5;124mPOS_Tagger\u001b[39m\u001b[38;5;132;01m{\u001b[39;00mcurrent_date\u001b[38;5;132;01m}\u001b[39;00m\u001b[38;5;124m.pth\u001b[39m\u001b[38;5;124m\"\u001b[39m\n\u001b[1;32m----> 6\u001b[0m \u001b[43mtorch\u001b[49m\u001b[38;5;241m.\u001b[39msave(model\u001b[38;5;241m.\u001b[39mstate_dict(), model_path)\n",
      "\u001b[1;31mNameError\u001b[0m: name 'torch' is not defined"
     ]
    }
   ],
   "source": [
    "## Save Model with current_date\n",
    "import datetime\n",
    "\n",
    "current_date = datetime.datetime.now().strftime(\"%Y-%m-%d\")\n",
    "model_path = f\"POS_Tagger{current_date}.pth\"\n",
    "torch.save(model.state_dict(), model_path)"
   ]
  },
  {
   "cell_type": "markdown",
   "metadata": {},
   "source": [
    "# Use Model"
   ]
  },
  {
   "cell_type": "code",
   "execution_count": 42,
   "metadata": {},
   "outputs": [],
   "source": [
    "## Function to get POS Tags for a sentence\n",
    "\n",
    "def get_pos_tags(model, sentence, word_to_idx_map, idx_to_tag):\n",
    "    sentence = nltk.word_tokenize(sentence)\n",
    "    model.eval()\n",
    "    with torch.no_grad():\n",
    "        sentence = [word_to_idx_map.get(word.lower(), word_to_idx_map[\"<OOV>\"]) for word in sentence]\n",
    "        sentence = torch.tensor(sentence).unsqueeze(0)\n",
    "        tag_scores = model(sentence)\n",
    "        _, predicted = torch.max(tag_scores, 2)\n",
    "        return [idx_to_tag[idx_tensor.item()] for idx_tensor in predicted[0]]"
   ]
  },
  {
   "cell_type": "code",
   "execution_count": 46,
   "metadata": {},
   "outputs": [
    {
     "name": "stdout",
     "output_type": "stream",
     "text": [
      "[('The', 'dt'), ('quick', 'nn'), ('brown', 'nnp'), ('fox', 'vbn'), ('jumps', 'nns'), ('over', 'in'), ('the', 'dt'), ('lazy', 'nns'), ('dog', 'vbp'), ('.', '.')]\n"
     ]
    }
   ],
   "source": [
    "example = \"The quick brown fox jumps over the lazy dog.\"\n",
    "ex_tags = get_pos_tags(model, example, word_to_idx_map, idx_to_tag_map)\n",
    "print(list(zip(nltk.word_tokenize(example), ex_tags)))"
   ]
  },
  {
   "cell_type": "code",
   "execution_count": null,
   "metadata": {},
   "outputs": [],
   "source": []
  }
 ],
 "metadata": {
  "kernelspec": {
   "display_name": "Python 3",
   "language": "python",
   "name": "python3"
  },
  "language_info": {
   "codemirror_mode": {
    "name": "ipython",
    "version": 3
   },
   "file_extension": ".py",
   "mimetype": "text/x-python",
   "name": "python",
   "nbconvert_exporter": "python",
   "pygments_lexer": "ipython3",
   "version": "3.11.7"
  }
 },
 "nbformat": 4,
 "nbformat_minor": 2
}
